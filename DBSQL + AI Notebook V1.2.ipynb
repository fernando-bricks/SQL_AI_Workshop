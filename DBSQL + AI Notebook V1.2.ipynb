{
 "cells": [
  {
   "cell_type": "markdown",
   "metadata": {
    "application/vnd.databricks.v1+cell": {
     "cellMetadata": {},
     "inputWidgets": {},
     "nuid": "94b3ca82-7747-408e-b6c4-c841ae8ff6d5",
     "showTitle": true,
     "tableResultSettingsMap": {},
     "title": ""
    }
   },
   "source": [
    "\n",
    "# DBSQL + AI Workshop: \"Mining Insights from the gold layer\"\n",
    "This hands-on workshop is designed to empower data analysts, engineers, and business users to extract maximum value from their refined, business-ready datasets using Databricks' unified analytics platform. The \"Gold Layer\" refers to the curated, high-quality data tier in the medallion architecture that's optimized for analytics and reporting.\n",
    "\n",
    "<div style=\"display: flex; align-items: center;\">\n",
    "  <img src=\"Images/Data + AI.png\" alt=\"generated-image.png\" style=\"margin-left: 10px;\" width=\"250\"/>\n",
    "  <ul>\n",
    "    <li>Unity Catalog managed tables: advantages and advanced uses</li>\n",
    "    <li>Leverage AI SQL functions to enrich data and extract insights</li>\n",
    "    <li>Correctly develop AI/BI Dashboards, use AI to facilitate your visualizations</li>\n",
    "    <li>Set up a genie space to empower your business users with last-mile analytics</li>\n",
    "    <li>Finally, combine Dashboards and Genie to get the full AI/BI experience</li>\n",
    "  </ul>\n",
    "</div>"
   ]
  },
  {
   "cell_type": "code",
   "execution_count": 0,
   "metadata": {
    "application/vnd.databricks.v1+cell": {
     "cellMetadata": {
      "byteLimit": 2048000,
      "implicitDf": true,
      "rowLimit": 10000
     },
     "inputWidgets": {},
     "nuid": "c9d8f6a8-f85a-4a63-a2f7-263fc59b038f",
     "showTitle": true,
     "tableResultSettingsMap": {},
     "title": "Set up a definition for the Catalog and Schema"
    }
   },
   "outputs": [],
   "source": [
    "%sql\n",
    "USE CATALOG users; \n",
    "Use SCHEMA fernando_vasquez;"
   ]
  },
  {
   "cell_type": "code",
   "execution_count": 0,
   "metadata": {
    "application/vnd.databricks.v1+cell": {
     "cellMetadata": {
      "byteLimit": 2048000,
      "implicitDf": true,
      "rowLimit": 10000
     },
     "inputWidgets": {},
     "nuid": "0cf7d538-8222-4de8-9fb1-964dc1e4a0c7",
     "showTitle": true,
     "tableResultSettingsMap": {
      "0": {
       "dataGridStateBlob": "{\"version\":1,\"tableState\":{\"columnPinning\":{\"left\":[\"#row_number#\"],\"right\":[]},\"columnSizing\":{},\"columnVisibility\":{}},\"settings\":{\"columns\":{}},\"syncTimestamp\":1758076737161}",
       "filterBlob": null,
       "queryPlanFiltersBlob": null,
       "tableResultIndex": 0
      }
     },
     "title": "First glance at the dataset"
    }
   },
   "outputs": [],
   "source": [
    "%sql\n",
    "--SELECT * FROM fct_coffee_shop_transactions LIMIT 10\n",
    "--SELECT * FROM fct_coffee_shop_stores_reviews LIMIT 10\n",
    "--SELECT * FROM dim_coffee_shop_stores LIMIT 10\n",
    "--SELECT * FROM dim_coffee_products  LIMIT 10"
   ]
  },
  {
   "cell_type": "code",
   "execution_count": 0,
   "metadata": {
    "application/vnd.databricks.v1+cell": {
     "cellMetadata": {
      "byteLimit": 2048000,
      "implicitDf": true,
      "rowLimit": 10000
     },
     "inputWidgets": {},
     "nuid": "ce66722b-8442-4a2c-b19e-ea6e854900ac",
     "showTitle": true,
     "tableResultSettingsMap": {},
     "title": "Agg_1: Transactions, sales and quantity sold by store, product and month for 2023"
    }
   },
   "outputs": [],
   "source": [
    "%sql\n",
    "SELECT \n",
    "  store_name,\n",
    "  product_detail,\n",
    "  make_date(year(transaction_date), month(transaction_date), day(transaction_date)) AS month_day,\n",
    "  SUM(transaction_id) AS total_transactions,\n",
    "  ROUND(sum(transation_total),2) AS total_sales,\n",
    "  SUM(transaction_qty) AS total_quantity_sold\n",
    "FROM \n",
    "  fct_coffee_shop_transactions\n",
    "LEFT JOIN dim_coffee_shop_stores \n",
    "  ON fct_coffee_shop_transactions.store_id = dim_coffee_shop_stores.store_id\n",
    "LEFT JOIN dim_coffee_products \n",
    "  ON fct_coffee_shop_transactions.product_id = dim_coffee_products.product_id\n",
    "WHERE\n",
    "  YEAR(transaction_date) = 2023\n",
    "GROUP BY \n",
    "  store_name,\n",
    "  product_detail,\n",
    "  month_day\n",
    "ORDER BY \n",
    "  store_name,\n",
    "  month_day\n",
    "\n"
   ]
  },
  {
   "cell_type": "code",
   "execution_count": 0,
   "metadata": {
    "application/vnd.databricks.v1+cell": {
     "cellMetadata": {
      "byteLimit": 2048000,
      "implicitDf": true,
      "rowLimit": 10000
     },
     "inputWidgets": {},
     "nuid": "5ff4544d-740a-40a2-8950-f618b1aa1682",
     "showTitle": true,
     "tableResultSettingsMap": {},
     "title": "Agg_2:Top 10 sold products"
    }
   },
   "outputs": [],
   "source": [
    "%sql\n",
    "SELECT\n",
    "  product_detail,\n",
    "  SUM(transaction_qty) AS total_quantity_sold\n",
    "FROM\n",
    "  fct_coffee_shop_transactions AS transactions\n",
    "LEFT JOIN dim_coffee_products AS products \n",
    "  ON transactions.product_id = products.product_id\n",
    "GROUP BY\n",
    "  product_detail\n",
    "ORDER BY\n",
    " total_quantity_sold DESC\n",
    " limit 10;"
   ]
  },
  {
   "cell_type": "code",
   "execution_count": 0,
   "metadata": {
    "application/vnd.databricks.v1+cell": {
     "cellMetadata": {},
     "inputWidgets": {},
     "nuid": "34b3c2bb-fa66-4a68-aa39-f1ae19ea4066",
     "showTitle": false,
     "tableResultSettingsMap": {},
     "title": ""
    }
   },
   "outputs": [],
   "source": [
    "%sql\n"
   ]
  },
  {
   "cell_type": "code",
   "execution_count": 0,
   "metadata": {
    "application/vnd.databricks.v1+cell": {
     "cellMetadata": {
      "byteLimit": 2048000,
      "rowLimit": 10000
     },
     "inputWidgets": {},
     "nuid": "1aa2e70d-0f5d-4bc7-8c54-ab59b7922c1d",
     "showTitle": false,
     "tableResultSettingsMap": {},
     "title": ""
    }
   },
   "outputs": [],
   "source": [
    "%sql\n",
    "SELECT\n",
    "  store_name,\n",
    "  transaction_date,\n",
    "  COUNT(transaction_id) AS total_transactions,\n",
    "  ROUND(SUM(transation_total), 2) AS total_sales\n",
    "FROM\n",
    "  fct_coffee_shop_transactions AS transactions\n",
    "LEFT JOIN dim_coffee_shop_stores AS stores\n",
    "  ON transactions.store_id = stores.store_id\n",
    "GROUP BY\n",
    "  store_name,\n",
    "  transaction_date\n",
    "ORDER BY\n",
    "  store_name,\n",
    "  transaction_date"
   ]
  },
  {
   "cell_type": "code",
   "execution_count": 0,
   "metadata": {
    "application/vnd.databricks.v1+cell": {
     "cellMetadata": {
      "byteLimit": 2048000,
      "implicitDf": true,
      "rowLimit": 10000
     },
     "inputWidgets": {},
     "nuid": "5f8305f6-460b-4b1f-8d88-c8a0bad78f0d",
     "showTitle": true,
     "tableResultSettingsMap": {
      "0": {
       "dataGridStateBlob": "{\"version\":1,\"tableState\":{\"columnPinning\":{\"left\":[\"#row_number#\"],\"right\":[]},\"columnSizing\":{},\"columnVisibility\":{}},\"settings\":{\"columns\":{}},\"syncTimestamp\":1756531095905}",
       "filterBlob": null,
       "queryPlanFiltersBlob": null,
       "tableResultIndex": 0
      }
     },
     "title": "Agg_3: Transactions and total sales per hour"
    }
   },
   "outputs": [],
   "source": [
    "%sql\n",
    "SELECT\n",
    "  store_name,\n",
    "  HOUR(transaction_time) AS hour_of_day,\n",
    "  SUM(transaction_qty) AS total_transactions_per_hour,\n",
    "  ROUND(SUM(transation_total),2) AS total_store_sales_per_hour\n",
    "FROM\n",
    "  fct_coffee_shop_transactions AS transactions\n",
    "LEFT JOIN dim_coffee_shop_stores AS stores\n",
    "  ON transactions.store_id = stores.store_id \n",
    "GROUP BY\n",
    "  HOUR(transaction_time), store_name\n",
    "ORDER BY\n",
    " store_name, hour_of_day ASC\n"
   ]
  },
  {
   "cell_type": "code",
   "execution_count": 0,
   "metadata": {
    "application/vnd.databricks.v1+cell": {
     "cellMetadata": {},
     "inputWidgets": {},
     "nuid": "591be8ce-8054-4cd8-b18a-2c75971f5728",
     "showTitle": false,
     "tableResultSettingsMap": {},
     "title": ""
    }
   },
   "outputs": [],
   "source": [
    "%sql\n",
    "SELECT\n",
    "  store_name,\n",
    "  HOUR(transaction_time) AS hour_of_day,\n",
    "  COUNT(transaction_id) AS total_transactions,\n",
    "  ROUND(SUM(transation_total), 2) AS total_sales\n",
    "FROM\n",
    "  fct_coffee_shop_transactions AS transactions\n",
    "LEFT JOIN dim_coffee_shop_stores AS stores\n",
    "  ON transactions.store_id = stores.store_id\n",
    "GROUP BY\n",
    "  store_name,\n",
    "  hour_of_day\n",
    "ORDER BY\n",
    "  store_name,\n",
    "  hour_of_day ASC"
   ]
  },
  {
   "cell_type": "code",
   "execution_count": 0,
   "metadata": {
    "application/vnd.databricks.v1+cell": {
     "cellMetadata": {
      "byteLimit": 2048000,
      "implicitDf": true,
      "rowLimit": 10000
     },
     "inputWidgets": {},
     "nuid": "bb8c5d1d-500f-43d1-aa05-0830aba5ba90",
     "showTitle": true,
     "tableResultSettingsMap": {},
     "title": "Agg_4: Total review by store"
    }
   },
   "outputs": [],
   "source": [
    "%sql\n",
    "SELECT \n",
    "  store_name,\n",
    "  COUNT(review_id) AS total_reviews\n",
    "FROM \n",
    "  fct_coffee_shop_stores_reviews AS reviews\n",
    "LEFT JOIN dim_coffee_shop_stores AS stores\n",
    "  ON reviews.store_id = stores.store_id\n",
    "GROUP BY \n",
    "  store_name\n",
    "ORDER BY \n",
    "  total_reviews DESC\n"
   ]
  },
  {
   "cell_type": "markdown",
   "metadata": {
    "application/vnd.databricks.v1+cell": {
     "cellMetadata": {},
     "inputWidgets": {},
     "nuid": "5404f1b4-7919-4c67-8de6-83cb9ed9f7e9",
     "showTitle": false,
     "tableResultSettingsMap": {},
     "title": ""
    }
   },
   "source": [
    "\n",
    "## Batch Inference: \"SQL AI functions\"\n",
    "Let's leverage Batch Inference to give a more personalized description and to review the current data by analyzing the sentiment of the reviews\n",
    "\n",
    "<div style=\"display: flex; align-items: center;\">\n",
    "  <img src=\"Images/Coffee and AI.png\" alt=\"generated-image.png\" style=\"margin-left: 10px;\" width=\"300\"/>\n",
    "</div>\n"
   ]
  },
  {
   "cell_type": "code",
   "execution_count": 0,
   "metadata": {
    "application/vnd.databricks.v1+cell": {
     "cellMetadata": {
      "byteLimit": 2048000,
      "implicitDf": true,
      "rowLimit": 10000
     },
     "inputWidgets": {},
     "nuid": "09fa4eb6-9151-4b40-8c95-fb08e39e8d01",
     "showTitle": true,
     "tableResultSettingsMap": {
      "0": {
       "dataGridStateBlob": "{\"version\":1,\"tableState\":{\"columnPinning\":{\"left\":[\"#row_number#\"],\"right\":[]},\"columnSizing\":{},\"columnVisibility\":{}},\"settings\":{\"columns\":{}},\"syncTimestamp\":1756669617233}",
       "filterBlob": null,
       "queryPlanFiltersBlob": null,
       "tableResultIndex": 0
      }
     },
     "title": "This code creates a more flexible description of each product"
    }
   },
   "outputs": [],
   "source": [
    "%sql\n",
    "--CREATE OR REPLACE TABLE users.fernando_vasquez.dim_coffee_products_extended AS (\n",
    "WITH distict_products AS (\n",
    "  SELECT DISTINCT \n",
    "  product_id,\n",
    "  product_category,\n",
    "  product_detail,\n",
    "  unit_price\n",
    "FROM dim_coffee_products \n",
    ")\n",
    "SELECT product_id,product_category,product_detail,\n",
    "      ai_query('databricks-meta-llama-3-3-70b-instruct',\n",
    "    CONCAT(\n",
    "      \"Create a description of the product based on the product category\",product_category,\"and detail\",product_detail,\"and unit price in dollars\",unit_price,\"The output should be just the description and vary for each product\")) AS PRODUCT_DESCRIPTION\n",
    " FROM distict_products \n",
    " ORDER BY product_id DESC\n",
    " LIMIT 35\n",
    "--)"
   ]
  },
  {
   "cell_type": "code",
   "execution_count": 0,
   "metadata": {
    "application/vnd.databricks.v1+cell": {
     "cellMetadata": {
      "byteLimit": 2048000,
      "implicitDf": true,
      "rowLimit": 10000
     },
     "inputWidgets": {},
     "nuid": "5f4014dc-8a9f-48a3-b329-9af2ff369e2f",
     "showTitle": true,
     "tableResultSettingsMap": {
      "0": {
       "dataGridStateBlob": "{\"version\":1,\"tableState\":{\"columnPinning\":{\"left\":[\"#row_number#\"],\"right\":[]},\"columnSizing\":{},\"columnVisibility\":{}},\"settings\":{\"columns\":{}},\"syncTimestamp\":1759176573757}",
       "filterBlob": null,
       "queryPlanFiltersBlob": null,
       "tableResultIndex": 0
      }
     },
     "title": "Create the fact table for reviewing the sentiment"
    }
   },
   "outputs": [],
   "source": [
    "%sql\n",
    "CREATE OR REPLACE TABLE fct_coffee_shop_stores_reviews AS (\n",
    "  SELECT \n",
    "    review_id,\n",
    "    store_id,\n",
    "    email,\n",
    "    review,\n",
    "    score, \n",
    "    ai_analyze_sentiment(review) AS sentiment\n",
    "  FROM \n",
    "    fct_coffee_shop_stores_reviews\n",
    ") "
   ]
  },
  {
   "cell_type": "code",
   "execution_count": 0,
   "metadata": {
    "application/vnd.databricks.v1+cell": {
     "cellMetadata": {
      "byteLimit": 2048000,
      "implicitDf": true,
      "rowLimit": 10000
     },
     "inputWidgets": {},
     "nuid": "6b20f429-a7a3-4815-bd54-5bcbe38ea342",
     "showTitle": true,
     "tableResultSettingsMap": {
      "0": {
       "dataGridStateBlob": "{\"version\":1,\"tableState\":{\"columnPinning\":{\"left\":[\"#row_number#\"],\"right\":[]},\"columnSizing\":{},\"columnVisibility\":{}},\"settings\":{\"columns\":{}},\"syncTimestamp\":1756349723887}",
       "filterBlob": null,
       "queryPlanFiltersBlob": null,
       "tableResultIndex": 0
      }
     },
     "title": "Agg_5: Total Review by Sentiment"
    }
   },
   "outputs": [],
   "source": [
    "%sql\n",
    "SELECT \n",
    "  sentiment,\n",
    "  count(review_id) AS total_reviews\n",
    "FROM \n",
    "  fct_coffee_reviews_sentiment\n",
    "GROUP BY \n",
    "  sentiment"
   ]
  },
  {
   "cell_type": "code",
   "execution_count": 0,
   "metadata": {
    "application/vnd.databricks.v1+cell": {
     "cellMetadata": {
      "byteLimit": 2048000,
      "implicitDf": true,
      "rowLimit": 10000
     },
     "inputWidgets": {},
     "nuid": "daaf2c10-a1db-4936-8d70-dc76e6b39f91",
     "showTitle": true,
     "tableResultSettingsMap": {
      "0": {
       "dataGridStateBlob": "{\"version\":1,\"tableState\":{\"columnPinning\":{\"left\":[\"#row_number#\"],\"right\":[]},\"columnSizing\":{},\"columnVisibility\":{}},\"settings\":{\"columns\":{}},\"syncTimestamp\":1756479333010}",
       "filterBlob": null,
       "queryPlanFiltersBlob": null,
       "tableResultIndex": 0
      }
     },
     "title": "Create a email with discounts to mixed sentiment"
    }
   },
   "outputs": [],
   "source": [
    "%sql\n",
    "WITH reviews_combined  AS (\n",
    "SELECT \n",
    "  fct_reviews.review_id,\n",
    "  review,\n",
    "  email,\n",
    "  sentiment,\n",
    "  store_name\n",
    "FROM \n",
    "  fct_coffee_shop_stores_reviews AS fct_reviews \n",
    "LEFT JOIN dim_coffee_shop_stores AS dim_stores ON fct_reviews.store_id = dim_stores.store_id \n",
    ")\n",
    "\n",
    "SELECT \n",
    "  review_id, \n",
    "  email,\n",
    "      ai_gen(concat(\"Use this review:\",review,\"to create a email advertising a 10% discount at the store:\",store_name,\"Use the email:\", email, \"as to infer the user name\",\". The output should be just the email and vary for each review\")) AS advertising_emails\n",
    "FROM \n",
    "  reviews_combined\n",
    "WHERE \n",
    "  sentiment = \"mixed\" limit 10"
   ]
  },
  {
   "cell_type": "markdown",
   "metadata": {
    "application/vnd.databricks.v1+cell": {
     "cellMetadata": {},
     "inputWidgets": {},
     "nuid": "a56475e0-b823-422c-9b75-f4872958d739",
     "showTitle": false,
     "tableResultSettingsMap": {},
     "title": ""
    }
   },
   "source": [
    "\n",
    "## Dashboard: \"Tables to visualizations\"\n",
    "Now that we understand the data, and move the insights to production!\n",
    "\n",
    "<div style=\"display: flex; align-items: right;\">\n",
    "  <img src=\"Images/Coffee Sales.png\" alt=\"Coffee Sales\" style=\"margin-left: 10px;\" width=\"300\"/>\n",
    "</div>\n"
   ]
  },
  {
   "cell_type": "markdown",
   "metadata": {
    "application/vnd.databricks.v1+cell": {
     "cellMetadata": {},
     "inputWidgets": {},
     "nuid": "2fffeab5-391a-4041-8052-93b5679ea12f",
     "showTitle": false,
     "tableResultSettingsMap": {},
     "title": ""
    }
   },
   "source": []
  },
  {
   "cell_type": "markdown",
   "metadata": {
    "application/vnd.databricks.v1+cell": {
     "cellMetadata": {},
     "inputWidgets": {},
     "nuid": "14e007ef-1f43-4f85-ac99-e37362e3b52e",
     "showTitle": false,
     "tableResultSettingsMap": {},
     "title": ""
    }
   },
   "source": [
    "\n",
    "## Genie: \"powerful text to insights assistant\"\n",
    "Convert your business questions and last-mile analytics to SQL easily with Genie!\n",
    "\n",
    "\n",
    "<div style=\"display: flex; align-items: right;\">\n",
    " <img src=\"Images/Genie.png\" alt=\"Genie\" style=\"margin-left: 10px;\" width=\"400\"/>\n",
    "</div>\n",
    "\n",
    "### Here we will consider best practices when setting up the genie space:\n",
    "\n",
    "* **Focused Datasets:** Genie should be product/project focus.\n",
    "* **Leverage UC metadata:** Give proper table and column descriptions.\n",
    "* **Give Genie SQL examples:** Add a natural language question that reflects what a business user would ask.\n",
    "* **Add Joins:** Explain to gneie the relationship of your data.\n",
    "* **Add instructions:** Help Genie understand the business context on meanings, formatting, and business rules.\n",
    "\n",
    "\n",
    "In this workshop, we covered the first 2 Best practices at the beginning when we covered the UC tables.\n",
    "\n",
    "### Lets create a Genie Space to work as a  Coffee Information Asistant \n",
    "\n",
    "#### **Description:** \n",
    "This assistant will use data about the transactions, reviews, and sales of coffee stores. Additionally, it includes information about the different products available in the chain.\n",
    "\n",
    "#### **Guide the users:** \n",
    "\n",
    "For example, SQL, let's review a couple of questions\n",
    "\n",
    "#### **Instructions:** \n",
    "\n",
    "* Adress to the user in the most formal way \n",
    "* Any product with total sales bellow 800 is at risk of beeing removed from the Menu\n",
    "* Stores should consider negative very seriusly \n",
    "* Hours with less than 10000 total sells could be removed \n",
    "* Customer satisfaction its very important for corportate\n",
    "* Better customer experience is more important than total sells\n",
    "* All the data related to money (Like sales or price) should be assumed as in dollars \n",
    "* The best product is the one with the highest sales\n",
    "\n",
    "#### **Sample questions:** \n",
    "* What is the best time selling time for the chain?\n",
    "* How much reviews have a negative and whats their average score?\n",
    "* What products should we remove?\n",
    "\n",
    "\n",
    "\n",
    "#### **Joins:** \n",
    "Define the 3 joins shown on this Entity Relatioship Diagram \n",
    "\n",
    "\n",
    "<div style=\"display: flex; align-items: right;\">\n",
    " <img src=\"Images/Coffee EDR.png\" alt=\"Genie\" style=\"margin-left: 10px;\" width=\"600\"/>\n",
    "</div>\n",
    "\n",
    "\n",
    "#### **Example, SQL:** \n"
   ]
  },
  {
   "cell_type": "code",
   "execution_count": 0,
   "metadata": {
    "application/vnd.databricks.v1+cell": {
     "cellMetadata": {
      "byteLimit": 2048000,
      "implicitDf": true,
      "rowLimit": 10000
     },
     "inputWidgets": {},
     "nuid": "2ec115bf-5e08-4822-853d-d1780f7106d7",
     "showTitle": true,
     "tableResultSettingsMap": {},
     "title": "SQL Example 1"
    }
   },
   "outputs": [],
   "source": [
    "%sql\n",
    "--What is the top 3 best selling product for the store Astoria Brews store?\n",
    "--This is relevant because it helps us understand what products are popular with customers and for marketing strategies.\n",
    "SELECT\n",
    "  store_name,\n",
    "  product_detail,\n",
    "  SUM(transation_total) AS total_quantity_sold\n",
    "FROM\n",
    "  fct_coffee_shop_transactions AS transactions\n",
    "LEFT JOIN dim_coffee_products AS products \n",
    "  ON transactions.product_id = products.product_id\n",
    "LEFT JOIN dim_coffee_shop_stores AS stores\n",
    "  ON transactions.store_id = stores.store_id\n",
    "WHERE\n",
    "  store_name = 'Astoria Brews'\n",
    "GROUP BY\n",
    "  store_name,\n",
    "  product_detail\n",
    "ORDER BY\n",
    "  total_quantity_sold DESC\n",
    "LIMIT 3\n"
   ]
  },
  {
   "cell_type": "code",
   "execution_count": 0,
   "metadata": {
    "application/vnd.databricks.v1+cell": {
     "cellMetadata": {
      "byteLimit": 2048000,
      "implicitDf": true,
      "rowLimit": 10000
     },
     "inputWidgets": {},
     "nuid": "33ecfed1-1ca6-42d1-887a-7a85ea463f80",
     "showTitle": false,
     "tableResultSettingsMap": {},
     "title": ""
    }
   },
   "outputs": [],
   "source": [
    "%sql\n",
    "--What's the most crowded time for Lower Grounds Coffee Co?  \n",
    "--This is relevant because it helps us understand when the store is most busy and can help us plan for staffing\n",
    "SELECT\n",
    "  store_name,\n",
    "  HOUR(transaction_time) AS hour_of_day,\n",
    "  ROUND(SUM(transation_total),2) AS total_transactions\n",
    "FROM\n",
    "  fct_coffee_shop_transactions AS transactions\n",
    "LEFT JOIN dim_coffee_shop_stores AS stores\n",
    "  ON transactions.store_id = stores.store_id\n",
    "WHERE\n",
    "  store_name = 'Lower Grounds Coffee Co'\n",
    "GROUP BY  store_name, hour_of_day\n",
    "\n",
    "ORDER BY\n",
    "  total_transactions DESC\n",
    "LIMIT 1"
   ]
  }
 ],
 "metadata": {
  "application/vnd.databricks.v1+notebook": {
   "computePreferences": {
    "hardware": {
     "accelerator": null,
     "gpuPoolId": null,
     "memory": null
    }
   },
   "dashboards": [
    {
     "elements": [],
     "globalVars": {},
     "guid": "",
     "layoutOption": {
      "grid": true,
      "stack": true
     },
     "nuid": "0bed591d-a392-4c6e-8501-66f60c3f9041",
     "origId": 7270276629020639,
     "title": "Untitled",
     "version": "DashboardViewV1",
     "width": 1024
    }
   ],
   "environmentMetadata": {
    "base_environment": "dbe_f14fbde8-5353-4144-89be-f0a3e93fffc9",
    "environment_version": "2"
   },
   "inputWidgetPreferences": null,
   "language": "python",
   "notebookMetadata": {
    "mostRecentlyExecutedCommandWithImplicitDF": {
     "commandId": -1,
     "dataframes": [
      "_sqldf"
     ]
    },
    "pythonIndentUnit": 2,
    "widgetLayout": [
     {
      "breakBefore": false,
      "name": "Catalog",
      "width": 194
     },
     {
      "breakBefore": false,
      "name": "Schema",
      "width": 194
     }
    ]
   },
   "notebookName": "DBSQL + AI Notebook V1.2",
   "widgets": {}
  },
  "language_info": {
   "name": "python"
  }
 },
 "nbformat": 4,
 "nbformat_minor": 0
}
